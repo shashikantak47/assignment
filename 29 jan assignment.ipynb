{
 "cells": [
  {
   "cell_type": "markdown",
   "id": "2953950e-964b-4f92-a9f7-a0a4464f5d4f",
   "metadata": {},
   "source": [
    "29 jan 2023 assignment"
   ]
  },
  {
   "cell_type": "markdown",
   "id": "9e36ffd7-7e07-47c8-9157-1b9c547b5281",
   "metadata": {},
   "source": [
    "1. who develop python programming language ?"
   ]
  },
  {
   "cell_type": "markdown",
   "id": "5b387fd3-3546-42b7-b661-090970bd8f0e",
   "metadata": {},
   "source": [
    "Ans. python was created  by guido van rossum, and first released on feb. 20, 1991."
   ]
  },
  {
   "cell_type": "markdown",
   "id": "eccea5e5-66c5-4720-8735-a629db57adce",
   "metadata": {},
   "source": [
    "2. which type of programming does python support ?"
   ]
  },
  {
   "cell_type": "markdown",
   "id": "7187a35c-5fe1-428e-ad91-40cb26215fd6",
   "metadata": {},
   "source": [
    "ANS. python is a multi- paradigm programming language. object-oriented programming and stuctured programming."
   ]
  },
  {
   "cell_type": "markdown",
   "id": "b84d9536-cd73-458e-bc3f-bc8ede44256a",
   "metadata": {},
   "source": [
    "3. Is python case sensitive when dealing with identifiers?"
   ]
  },
  {
   "cell_type": "markdown",
   "id": "c5daf892-da69-470f-8c35-11157f918964",
   "metadata": {},
   "source": [
    "Ans. yes, python is a case- sensitive language, so identifiers are case sentive. that is, it considers uppercase and lowercase characters differntly. The property is useful while naming identifiers to make the code more readable and maintainable."
   ]
  },
  {
   "cell_type": "markdown",
   "id": "8b22f593-e02c-450b-9120-1b2e0bf0a3d9",
   "metadata": {},
   "source": [
    "4. what is the correct extention of the python files?"
   ]
  },
  {
   "cell_type": "markdown",
   "id": "62d03c2b-1f53-40ef-ad42-f18a18bb2cb1",
   "metadata": {},
   "source": [
    "ANS. '.py' , '.pyi'."
   ]
  },
  {
   "cell_type": "markdown",
   "id": "81391315-4720-401d-a461-86b7319cfd80",
   "metadata": {},
   "source": [
    "5. Is python code is compiled or interpreted ?"
   ]
  },
  {
   "cell_type": "markdown",
   "id": "cc3dcda4-8a27-4d4c-9f2b-e0b0e52025f5",
   "metadata": {},
   "source": [
    "python is an interpreted language, which means the source code of a python program is converted into bytecode that is then executed by the python virtual machine."
   ]
  },
  {
   "cell_type": "raw",
   "id": "a91ceaff-fbb7-4b8b-a0d2-4798759309ec",
   "metadata": {},
   "source": [
    "6. Name a few blacks of code used to define in python language ?\n",
    "Ans. A python is a program is constructed from code blocks, A block is a piece of python program text that is  executed as a unit. the following are blocks: a module, a function body, and a class defination. Each cpmmand tpe interactively is a block."
   ]
  },
  {
   "cell_type": "raw",
   "id": "bdb9a73b-bd42-4149-af05-27e7ab019425",
   "metadata": {},
   "source": [
    "7. State a character used to give single-line coments in python."
   ]
  },
  {
   "cell_type": "markdown",
   "id": "35b7f5f1-3e87-43ea-bcb2-942e382cfbf0",
   "metadata": {},
   "source": [
    "Ans. comments in python are identified with a hash symbol, #. "
   ]
  },
  {
   "cell_type": "markdown",
   "id": "dd2ea720-a653-4dfe-91bb-28641af069b2",
   "metadata": {},
   "source": [
    "8. Mention function which can help us to find the version of python that we are currenty working on?"
   ]
  },
  {
   "cell_type": "markdown",
   "id": "4d9dbf94-60d3-47ca-8b49-3a8b06f32e68",
   "metadata": {},
   "source": [
    "Ans. the function sys.version can helpus to find the version of python that we are current working on."
   ]
  },
  {
   "cell_type": "markdown",
   "id": "0d954286-2768-44d1-976d-b57a8164e888",
   "metadata": {},
   "source": [
    "9.python supports the creation of  anonymous funtion at runtime, using a contruct called' lambda'."
   ]
  },
  {
   "cell_type": "markdown",
   "id": "e1e9eab0-8d91-4290-8c45-5c9b315ba4da",
   "metadata": {},
   "source": [
    "10.what does pip stand for python?"
   ]
  },
  {
   "cell_type": "markdown",
   "id": "c2b27d7a-6c26-45d4-be5a-fa3b4c15127a",
   "metadata": {},
   "source": [
    "Ans. pip is a  recrusive acronym for ' preferred installer program'  or pip installs packages. it is a commandline  utiliy that installs, reinstalls, or uninstalls pypi packages with one simple command : pip"
   ]
  },
  {
   "cell_type": "markdown",
   "id": "0c89c753-2a6a-4fae-8622-00e1c9043e4e",
   "metadata": {},
   "source": [
    "Mention a few built-in function in python?"
   ]
  },
  {
   "cell_type": "markdown",
   "id": "6467a752-162e-4bec-a7cb-810744d53aae",
   "metadata": {},
   "source": [
    "1. print() function\n",
    "2. type() function\n",
    "3. input() function\n",
    "4. abs() function \n",
    "5. pow() funtion\n",
    "6. dir()function\n",
    "7. sorted() funtion"
   ]
  },
  {
   "cell_type": "markdown",
   "id": "04865ce4-32b2-420a-aab4-ffd0e709717b",
   "metadata": {},
   "source": [
    "12. what is the maximum possible lenth of an identifier in python?"
   ]
  },
  {
   "cell_type": "markdown",
   "id": "8edaf256-b62f-4461-b4b1-53f3dcfe15a4",
   "metadata": {},
   "source": [
    "79 character"
   ]
  },
  {
   "cell_type": "markdown",
   "id": "2b98182d-453d-4246-80e9-b915018fb341",
   "metadata": {},
   "source": [
    "13. what is the benifits of using python?"
   ]
  },
  {
   "cell_type": "markdown",
   "id": "480a872a-bc28-43eb-85f1-d19a2aa149b7",
   "metadata": {},
   "source": [
    "1. easy to read and learn \n",
    "2. reduces mantainence cost\n",
    "3. avoid the harm of software bugs\n",
    "4. wide applicabiliy\n",
    "5. integration with other languages"
   ]
  },
  {
   "cell_type": "markdown",
   "id": "c2e67e9a-169e-474d-9892-89ea8807867a",
   "metadata": {},
   "source": [
    "14. how is memory managed in python ?"
   ]
  },
  {
   "cell_type": "markdown",
   "id": "5587a04b-5ef3-4025-95ce-85f2f97ffc01",
   "metadata": {},
   "source": [
    "Ans. python uses a memory manager to manage memory allocation and deallocation.python has two types of memory that it uses; stack memory and heap memory."
   ]
  },
  {
   "cell_type": "markdown",
   "id": "376923e6-ff76-4104-ba18-4c8386482548",
   "metadata": {},
   "source": [
    "15. how to install python on windows and set path variables? "
   ]
  },
  {
   "cell_type": "markdown",
   "id": "11e39fa0-87ee-4620-9940-a0e660814c76",
   "metadata": {},
   "source": [
    "1. open explorer\n",
    "2. right- click' computer' in the navigation tree panel on the left.\n",
    "3. select 'properties' at the bottom of the context menu.\n",
    "4. select ' advance system settings'\n",
    "5. click ' environment variables'  in the advanced tab.\n",
    "6. under ' system variables, :add."
   ]
  },
  {
   "cell_type": "markdown",
   "id": "59ed4ddc-f514-43aa-a2c6-70fe2e0b17de",
   "metadata": {},
   "source": [
    "16. Is identation required in python."
   ]
  },
  {
   "cell_type": "markdown",
   "id": "98ead317-f040-4abb-80a9-aeb8e54422bf",
   "metadata": {},
   "source": [
    "Ans.identation is mandatory in python to define thec blocks of statements.The number of spaces must be in uniform in a block of code. it is preferred to use whitespaces insted of tabs to intend in python. "
   ]
  },
  {
   "cell_type": "code",
   "execution_count": null,
   "id": "fd4ad279-22be-4f79-a105-b4bddb802b5f",
   "metadata": {},
   "outputs": [],
   "source": []
  }
 ],
 "metadata": {
  "kernelspec": {
   "display_name": "Python 3 (ipykernel)",
   "language": "python",
   "name": "python3"
  },
  "language_info": {
   "codemirror_mode": {
    "name": "ipython",
    "version": 3
   },
   "file_extension": ".py",
   "mimetype": "text/x-python",
   "name": "python",
   "nbconvert_exporter": "python",
   "pygments_lexer": "ipython3",
   "version": "3.10.8"
  }
 },
 "nbformat": 4,
 "nbformat_minor": 5
}
